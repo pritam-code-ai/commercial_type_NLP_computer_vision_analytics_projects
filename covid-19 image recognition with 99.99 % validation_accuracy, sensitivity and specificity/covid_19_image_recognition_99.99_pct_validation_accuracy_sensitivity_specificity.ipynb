{
 "cells": [
  {
   "cell_type": "code",
   "execution_count": 1,
   "metadata": {},
   "outputs": [],
   "source": [
    "from tensorflow.keras.preprocessing.image import ImageDataGenerator\n",
    "from tensorflow.keras.applications import VGG16\n",
    "from tensorflow.keras.layers import AveragePooling2D\n",
    "from tensorflow.keras.layers import Dropout\n",
    "from tensorflow.keras.layers import Flatten\n",
    "from tensorflow.keras.layers import Dense\n",
    "from tensorflow.keras.layers import Input\n",
    "from tensorflow.keras.models import Model, load_model\n",
    "from tensorflow.keras.optimizers import Adam\n",
    "from tensorflow.keras.utils import to_categorical\n",
    "import tensorflow\n",
    "from sklearn.preprocessing import LabelBinarizer\n",
    "from sklearn.model_selection import train_test_split\n",
    "from sklearn.metrics import classification_report\n",
    "from sklearn.metrics import confusion_matrix\n",
    "from imutils import paths\n",
    "import matplotlib.pyplot as plt\n",
    "import numpy as np\n",
    "import argparse\n",
    "import cv2\n",
    "import os\n",
    "import time"
   ]
  },
  {
   "cell_type": "code",
   "execution_count": 2,
   "metadata": {},
   "outputs": [],
   "source": [
    "path_to_dataset = \"dataset/\"\n",
    "output_store_path = \"graph_and_model_store_after_train/\"\n",
    "path_to_train_and_validation_loss_and_accuracy_plot = output_store_path + \"plot.png\"\n",
    "#path_to_store_covid_19_image_recognition_model = output_store_path + \"covid19.model\"\n",
    "path_to_store_covid_19_image_recognition_model = os.path.join(\"pb_format_model\" , \"my_model\")\n"
   ]
  },
  {
   "cell_type": "code",
   "execution_count": 3,
   "metadata": {},
   "outputs": [
    {
     "name": "stdout",
     "output_type": "stream",
     "text": [
      "Directory  graph_and_model_store_after_train/  Created . \n"
     ]
    }
   ],
   "source": [
    "try:\n",
    "    os.makedirs(output_store_path)    \n",
    "    print(\"Directory \" , output_store_path ,  \" Created . \")\n",
    "except FileExistsError:\n",
    "    print(\"Directory \" , output_store_path ,  \" already exists . \")  \n"
   ]
  },
  {
   "cell_type": "code",
   "execution_count": 4,
   "metadata": {},
   "outputs": [],
   "source": [
    "# initialize the \n",
    "# initial learning rate = INIT_LR\n",
    "# number of epochs = EPOCHS\n",
    "# batch size = BS \n",
    "\n",
    "INIT_LR = 1e-3\n",
    "EPOCHS = 25\n",
    "BS = 8\n"
   ]
  },
  {
   "cell_type": "code",
   "execution_count": 5,
   "metadata": {},
   "outputs": [
    {
     "name": "stdout",
     "output_type": "stream",
     "text": [
      "[INFO] loading images...\n"
     ]
    }
   ],
   "source": [
    "# get the images in directory, \n",
    "# then initialize\n",
    "# data (i.e., images) and class of images . \n",
    "\n",
    "print(\"[INFO] loading images...\")\n",
    "imagePaths = list(paths.list_images(path_to_dataset))\n",
    "data = []\n",
    "labels = []\n"
   ]
  },
  {
   "cell_type": "code",
   "execution_count": 6,
   "metadata": {},
   "outputs": [],
   "source": [
    "# get image, convert color, resize each image in image paths \n",
    "# and \n",
    "# after that append each image and label data \n",
    "\n",
    "for imagePath in imagePaths:\n",
    "    # extract the class label from the filename\n",
    "    label = imagePath.split(os.path.sep)[-2]\n",
    "\n",
    "    # load the image, swap color channels, and resize it to be a fixed\n",
    "    # 224x224 pixels while ignoring aspect ratio\n",
    "    image = cv2.imread(imagePath)\n",
    "    \n",
    "    #print(image.shape)\n",
    "    \n",
    "    image = cv2.cvtColor(image, cv2.COLOR_BGR2RGB)\n",
    "    \n",
    "    #print(image.shape)\n",
    "    \n",
    "    image = cv2.resize(image, (224, 224))\n",
    "\n",
    "    #print(image.shape)\n",
    "    \n",
    "    # update the data and labels lists\n",
    "    data.append(image)\n",
    "    labels.append(label)\n"
   ]
  },
  {
   "cell_type": "code",
   "execution_count": 7,
   "metadata": {},
   "outputs": [
    {
     "data": {
      "text/plain": [
       "(50, 224, 224, 3)"
      ]
     },
     "execution_count": 7,
     "metadata": {},
     "output_type": "execute_result"
    }
   ],
   "source": [
    "np.array(data).shape"
   ]
  },
  {
   "cell_type": "code",
   "execution_count": 8,
   "metadata": {},
   "outputs": [],
   "source": [
    "# convert the data and labels to NumPy arrays while scaling the pixel\n",
    "# intensities to the range [0, 255]\n",
    "data = np.array(data) / 255.0\n",
    "labels = np.array(labels)\n"
   ]
  },
  {
   "cell_type": "code",
   "execution_count": 9,
   "metadata": {},
   "outputs": [],
   "source": [
    "# one-hot encoding the labels\n",
    "lb = LabelBinarizer()\n",
    "labels = lb.fit_transform(labels)\n",
    "labels = to_categorical(labels)\n"
   ]
  },
  {
   "cell_type": "code",
   "execution_count": 10,
   "metadata": {},
   "outputs": [],
   "source": [
    "# split data into train and test data using 80% of\n",
    "# the data for training and the remaining 20% for testing \n",
    "\n",
    "(trainX, testX, trainY, testY) = train_test_split(data, labels, \n",
    "                                test_size=0.20, stratify=labels, random_state=42)\n"
   ]
  },
  {
   "cell_type": "code",
   "execution_count": 11,
   "metadata": {},
   "outputs": [],
   "source": [
    "# train image data augmentation by using ImageDataGenerator\n",
    "trainAug = ImageDataGenerator(rotation_range=15, fill_mode=\"nearest\")\n"
   ]
  },
  {
   "cell_type": "code",
   "execution_count": 12,
   "metadata": {},
   "outputs": [],
   "source": [
    "# VGG16 network load and head FC layer sets are not used \n",
    "\n",
    "baseModel = VGG16(weights=\"imagenet\", include_top=False, input_tensor=Input(shape=(224, 224, 3)))\n"
   ]
  },
  {
   "cell_type": "code",
   "execution_count": 13,
   "metadata": {},
   "outputs": [],
   "source": [
    "# construct the head of the model that will be placed on the base model\n",
    "\n",
    "headModel = baseModel.output\n",
    "headModel = AveragePooling2D(pool_size=(4, 4))(headModel)\n",
    "headModel = Flatten(name=\"flatten\")(headModel)\n",
    "headModel = Dense(64, activation=\"relu\")(headModel)\n",
    "headModel = Dropout(0.5)(headModel)\n",
    "headModel = Dense(2, activation=\"softmax\")(headModel)\n"
   ]
  },
  {
   "cell_type": "code",
   "execution_count": 14,
   "metadata": {},
   "outputs": [],
   "source": [
    "# keep head FC model on the base model \n",
    "# and it is the model that will be trained . \n",
    "model = Model(inputs=baseModel.input, outputs=headModel)\n"
   ]
  },
  {
   "cell_type": "code",
   "execution_count": 15,
   "metadata": {},
   "outputs": [],
   "source": [
    "# loop over all layers in the base model and freeze them so they will\n",
    "# *not* be updated during the first training process\n",
    "for layer in baseModel.layers:\n",
    "    layer.trainable = False\n"
   ]
  },
  {
   "cell_type": "code",
   "execution_count": 16,
   "metadata": {},
   "outputs": [
    {
     "name": "stdout",
     "output_type": "stream",
     "text": [
      "[INFO] compiling model...\n",
      "compile done . \n"
     ]
    }
   ],
   "source": [
    "# compile model\n",
    "print(\"[INFO] compiling model...\")\n",
    "\n",
    "opt = Adam(lr=INIT_LR, decay=INIT_LR / EPOCHS)\n",
    "\n",
    "model.compile(loss=\"binary_crossentropy\", optimizer=opt, metrics=[\"accuracy\"])\n",
    "\n",
    "print(\"compile done . \")\n"
   ]
  },
  {
   "cell_type": "code",
   "execution_count": 17,
   "metadata": {},
   "outputs": [
    {
     "name": "stdout",
     "output_type": "stream",
     "text": [
      "[INFO] training head...\n",
      "WARNING:tensorflow:From <ipython-input-17-9e5a16f451fb>:11: Model.fit_generator (from tensorflow.python.keras.engine.training) is deprecated and will be removed in a future version.\n",
      "Instructions for updating:\n",
      "Please use Model.fit, which supports generators.\n",
      "WARNING:tensorflow:sample_weight modes were coerced from\n",
      "  ...\n",
      "    to  \n",
      "  ['...']\n",
      "Train for 5 steps, validate on 10 samples\n",
      "Epoch 1/25\n",
      "5/5 [==============================] - 78s 16s/step - loss: 0.7675 - accuracy: 0.5000 - val_loss: 0.5347 - val_accuracy: 0.5000\n",
      "Epoch 2/25\n",
      "5/5 [==============================] - 76s 15s/step - loss: 0.6937 - accuracy: 0.5750 - val_loss: 0.5039 - val_accuracy: 0.7500\n",
      "Epoch 3/25\n",
      "5/5 [==============================] - 75s 15s/step - loss: 0.7236 - accuracy: 0.5250 - val_loss: 0.4847 - val_accuracy: 0.8750\n",
      "Epoch 4/25\n",
      "5/5 [==============================] - 75s 15s/step - loss: 0.6486 - accuracy: 0.5500 - val_loss: 0.4665 - val_accuracy: 1.0000\n",
      "Epoch 5/25\n",
      "5/5 [==============================] - 76s 15s/step - loss: 0.5392 - accuracy: 0.7500 - val_loss: 0.4427 - val_accuracy: 0.8750\n",
      "Epoch 6/25\n",
      "5/5 [==============================] - 75s 15s/step - loss: 0.5201 - accuracy: 0.7500 - val_loss: 0.4267 - val_accuracy: 0.8750\n",
      "Epoch 7/25\n",
      "5/5 [==============================] - 75s 15s/step - loss: 0.6308 - accuracy: 0.6250 - val_loss: 0.4138 - val_accuracy: 1.0000\n",
      "Epoch 8/25\n",
      "5/5 [==============================] - 75s 15s/step - loss: 0.6193 - accuracy: 0.6500 - val_loss: 0.4023 - val_accuracy: 1.0000\n",
      "Epoch 9/25\n",
      "5/5 [==============================] - 75s 15s/step - loss: 0.5593 - accuracy: 0.7000 - val_loss: 0.3862 - val_accuracy: 1.0000\n",
      "Epoch 10/25\n",
      "5/5 [==============================] - 75s 15s/step - loss: 0.4904 - accuracy: 0.8500 - val_loss: 0.3730 - val_accuracy: 1.0000\n",
      "Epoch 11/25\n",
      "5/5 [==============================] - 75s 15s/step - loss: 0.4736 - accuracy: 0.9000 - val_loss: 0.3595 - val_accuracy: 1.0000\n",
      "Epoch 12/25\n",
      "5/5 [==============================] - 75s 15s/step - loss: 0.4761 - accuracy: 0.8500 - val_loss: 0.3424 - val_accuracy: 1.0000\n",
      "Epoch 13/25\n",
      "5/5 [==============================] - 75s 15s/step - loss: 0.4626 - accuracy: 0.8000 - val_loss: 0.3266 - val_accuracy: 1.0000\n",
      "Epoch 14/25\n",
      "5/5 [==============================] - 75s 15s/step - loss: 0.4630 - accuracy: 0.8250 - val_loss: 0.3144 - val_accuracy: 0.8750\n",
      "Epoch 15/25\n",
      "5/5 [==============================] - 75s 15s/step - loss: 0.4497 - accuracy: 0.8500 - val_loss: 0.2982 - val_accuracy: 1.0000\n",
      "Epoch 16/25\n",
      "5/5 [==============================] - 75s 15s/step - loss: 0.3993 - accuracy: 0.8750 - val_loss: 0.2864 - val_accuracy: 1.0000\n",
      "Epoch 17/25\n",
      "5/5 [==============================] - 75s 15s/step - loss: 0.3689 - accuracy: 0.9000 - val_loss: 0.2778 - val_accuracy: 1.0000\n",
      "Epoch 18/25\n",
      "5/5 [==============================] - 75s 15s/step - loss: 0.4119 - accuracy: 0.9250 - val_loss: 0.2659 - val_accuracy: 1.0000\n",
      "Epoch 19/25\n",
      "5/5 [==============================] - 75s 15s/step - loss: 0.3249 - accuracy: 0.9000 - val_loss: 0.2536 - val_accuracy: 1.0000\n",
      "Epoch 20/25\n",
      "5/5 [==============================] - 75s 15s/step - loss: 0.3995 - accuracy: 0.8250 - val_loss: 0.2444 - val_accuracy: 0.8750\n",
      "Epoch 21/25\n",
      "5/5 [==============================] - 75s 15s/step - loss: 0.3258 - accuracy: 0.9250 - val_loss: 0.2314 - val_accuracy: 1.0000\n",
      "Epoch 22/25\n",
      "5/5 [==============================] - 75s 15s/step - loss: 0.3473 - accuracy: 0.9500 - val_loss: 0.2227 - val_accuracy: 1.0000\n",
      "Epoch 23/25\n",
      "5/5 [==============================] - 75s 15s/step - loss: 0.3141 - accuracy: 0.9000 - val_loss: 0.2131 - val_accuracy: 1.0000\n",
      "Epoch 24/25\n",
      "5/5 [==============================] - 75s 15s/step - loss: 0.3652 - accuracy: 0.8500 - val_loss: 0.2058 - val_accuracy: 1.0000\n",
      "Epoch 25/25\n",
      "5/5 [==============================] - 75s 15s/step - loss: 0.2810 - accuracy: 0.9250 - val_loss: 0.2001 - val_accuracy: 1.0000\n",
      "--- train completed after 1881.1536755561829 seconds ---\n",
      "train done . \n"
     ]
    }
   ],
   "source": [
    "# train the head of the network\n",
    "print(\"[INFO] training head...\")\n",
    "\n",
    "start_time = time.time()\n",
    "\n",
    "H = model.fit_generator(\n",
    "    trainAug.flow(trainX, trainY, batch_size=BS),\n",
    "    steps_per_epoch=len(trainX) // BS,\n",
    "    validation_data=(testX, testY),\n",
    "    validation_steps=len(testX) // BS,\n",
    "    epochs=EPOCHS)\n",
    "\n",
    "print(\"--- train completed after %s seconds ---\" % (time.time() - start_time))\n",
    "print(\"train done . \")"
   ]
  },
  {
   "cell_type": "code",
   "execution_count": 18,
   "metadata": {},
   "outputs": [
    {
     "name": "stdout",
     "output_type": "stream",
     "text": [
      "[INFO] evaluating network...\n"
     ]
    }
   ],
   "source": [
    "# predictions on the test set\n",
    "\n",
    "print(\"[INFO] evaluating network...\")\n",
    "predIdxs = model.predict(testX, batch_size=BS)\n"
   ]
  },
  {
   "cell_type": "code",
   "execution_count": 19,
   "metadata": {},
   "outputs": [],
   "source": [
    "# for each image in the test data, index of the label \n",
    "# with corresponding largest predicted probability is found . \n",
    "predIdxs = np.argmax(predIdxs, axis=1)\n"
   ]
  },
  {
   "cell_type": "code",
   "execution_count": 20,
   "metadata": {},
   "outputs": [
    {
     "name": "stdout",
     "output_type": "stream",
     "text": [
      "                precision    recall  f1-score   support\n",
      "\n",
      " dataset/covid       1.00      1.00      1.00         5\n",
      "dataset/normal       1.00      1.00      1.00         5\n",
      "\n",
      "      accuracy                           1.00        10\n",
      "     macro avg       1.00      1.00      1.00        10\n",
      "  weighted avg       1.00      1.00      1.00        10\n",
      "\n"
     ]
    }
   ],
   "source": [
    "# classification report\n",
    "print(classification_report(testY.argmax(axis=1), predIdxs, target_names=lb.classes_))\n"
   ]
  },
  {
   "cell_type": "code",
   "execution_count": 21,
   "metadata": {},
   "outputs": [],
   "source": [
    "# confusion matrix to find the raw accuracy, sensitivity, and specificity\n",
    "\n",
    "cm = confusion_matrix(testY.argmax(axis=1), predIdxs)\n",
    "total = sum(sum(cm))\n",
    "acc = (cm[0, 0] + cm[1, 1]) / total\n",
    "sensitivity = cm[0, 0] / (cm[0, 0] + cm[0, 1])\n",
    "specificity = cm[1, 1] / (cm[1, 0] + cm[1, 1])\n"
   ]
  },
  {
   "cell_type": "code",
   "execution_count": 22,
   "metadata": {},
   "outputs": [
    {
     "name": "stdout",
     "output_type": "stream",
     "text": [
      "[[5 0]\n",
      " [0 5]]\n",
      "acc: 1.0000\n",
      "sensitivity: 1.0000\n",
      "specificity: 1.0000\n"
     ]
    }
   ],
   "source": [
    "# confusion matrix, accuracy, sensitivity, and specificity are printed . \n",
    "print(cm)\n",
    "print(\"acc: {:.4f}\".format(acc))\n",
    "print(\"sensitivity: {:.4f}\".format(sensitivity))\n",
    "print(\"specificity: {:.4f}\".format(specificity))\n"
   ]
  },
  {
   "cell_type": "code",
   "execution_count": 23,
   "metadata": {},
   "outputs": [
    {
     "data": {
      "image/png": "[encoded data removed]",
      "text/plain": [
       "<Figure size 432x288 with 1 Axes>"
      ]
     },
     "metadata": {},
     "output_type": "display_data"
    }
   ],
   "source": [
    "# plot the training loss and accuracy\n",
    "\n",
    "N = EPOCHS\n",
    "plt.style.use(\"ggplot\")\n",
    "plt.figure()\n",
    "plt.plot(np.arange(0, N), H.history[\"loss\"], label=\"train_loss\")\n",
    "plt.plot(np.arange(0, N), H.history[\"val_loss\"], label=\"val_loss\")\n",
    "plt.plot(np.arange(0, N), H.history[\"accuracy\"], label=\"train_acc\")\n",
    "plt.plot(np.arange(0, N), H.history[\"val_accuracy\"], label=\"val_acc\")\n",
    "plt.title(\"Training Loss and Accuracy on COVID-19 Dataset\")\n",
    "plt.xlabel(\"Epoch #\")\n",
    "plt.ylabel(\"Loss/Accuracy\")\n",
    "plt.legend(loc=\"lower left\")\n",
    "plt.savefig(path_to_train_and_validation_loss_and_accuracy_plot)\n"
   ]
  },
  {
   "cell_type": "code",
   "execution_count": 24,
   "metadata": {},
   "outputs": [
    {
     "name": "stdout",
     "output_type": "stream",
     "text": [
      "[INFO] saving COVID-19 detector model...\n",
      "WARNING:tensorflow:From C:\\Users\\Home\\Anaconda3\\envs\\tensorflow\\lib\\site-packages\\tensorflow_core\\python\\ops\\resource_variable_ops.py:1786: calling BaseResourceVariable.__init__ (from tensorflow.python.ops.resource_variable_ops) with constraint is deprecated and will be removed in a future version.\n",
      "Instructions for updating:\n",
      "If using Keras pass *_constraint arguments to layers.\n",
      "INFO:tensorflow:Assets written to: pb_format_model\\my_model\\assets\n",
      "covid-19 model file saved at location =  pb_format_model\\my_model\n"
     ]
    }
   ],
   "source": [
    "# serialize the model to disk\n",
    "print(\"[INFO] saving COVID-19 detector model...\")\n",
    "#model.save(path_to_store_covid_19_image_recognition_model, save_format=\"h5\")\n",
    "model.save(path_to_store_covid_19_image_recognition_model) \n",
    "print(\"covid-19 model file saved at location = \", path_to_store_covid_19_image_recognition_model)"
   ]
  },
  {
   "cell_type": "code",
   "execution_count": 25,
   "metadata": {},
   "outputs": [],
   "source": [
    "model_stored = load_model(path_to_store_covid_19_image_recognition_model, compile=True)"
   ]
  },
  {
   "cell_type": "code",
   "execution_count": 28,
   "metadata": {},
   "outputs": [
    {
     "data": {
      "text/plain": [
       "'pb_format_model\\\\my_model'"
      ]
     },
     "execution_count": 28,
     "metadata": {},
     "output_type": "execute_result"
    }
   ],
   "source": [
    "path_to_store_covid_19_image_recognition_model"
   ]
  },
  {
   "cell_type": "code",
   "execution_count": 32,
   "metadata": {},
   "outputs": [
    {
     "data": {
      "text/plain": [
       "58998892"
      ]
     },
     "execution_count": 32,
     "metadata": {},
     "output_type": "execute_result"
    }
   ],
   "source": [
    "#model_stored.save(\"covid_19_image_recognition_model.pb\")\n",
    "converter = tensorflow.lite.TFLiteConverter.from_saved_model(path_to_store_covid_19_image_recognition_model)\n",
    "tfmodel = converter.convert()\n",
    "open(\"pb_format_model/\"+\"model.tflite\",\"wb\").write(tfmodel)"
   ]
  },
  {
   "cell_type": "code",
   "execution_count": null,
   "metadata": {},
   "outputs": [],
   "source": []
  },
  {
   "cell_type": "code",
   "execution_count": 34,
   "metadata": {},
   "outputs": [
    {
     "name": "stdout",
     "output_type": "stream",
     "text": [
      "[[0.9150556 0.0849444]]\n",
      "input image is detected as covid 19 type image . \n"
     ]
    }
   ],
   "source": [
    "\n",
    "covid_19_path = \"check covid 19 image/covid 19/\"\n",
    "\n",
    "not_covid_19_image = \"check covid 19 image/not covid 19/\"\n",
    "\n",
    "path_to_covid_19_check_image_file = covid_19_path + \"1-s2.0-S0929664620300449-gr2_lrg-b.jpg\"\n",
    "\n",
    "#path_to_covid_19_check_image_file = not_covid_19_image + \"IM-0033-0001-0001.jpeg\"\n",
    "\n",
    "\n",
    "IMG_SIZE = 224\n",
    "img_array = cv2.imread(path_to_covid_19_check_image_file)  \n",
    "img_array = cv2.cvtColor(img_array, cv2.COLOR_BGR2RGB)\n",
    "new_array = cv2.resize(img_array, (IMG_SIZE, IMG_SIZE))\n",
    "\n",
    "licht_1 = []\n",
    "\n",
    "licht_1.append(new_array)\n",
    "\n",
    "new_array = np.array(licht_1) / 255.0\n",
    "\n",
    "#to predict single image\n",
    "class_prob=model_stored.predict(new_array,batch_size=1)\n",
    "print(class_prob)\n",
    "\n",
    "\n",
    "def predict_classes_of_covid_19_image_file(class_prob):\n",
    "    if np.argmax(class_prob, axis=1) == 0:\n",
    "        return \"input image is detected as covid 19 type image . \", np.argmax(class_prob, axis=1)\n",
    "    else:\n",
    "        return \"input image is detected as NOT covid 19 type image . \", np.argmax(class_prob, axis=1)\n",
    "        \n",
    "\n",
    "classifications, indekch =predict_classes_of_covid_19_image_file(class_prob)\n",
    "print(classifications) "
   ]
  },
  {
   "cell_type": "code",
   "execution_count": null,
   "metadata": {},
   "outputs": [],
   "source": []
  }
 ],
 "metadata": {
  "kernelspec": {
   "display_name": "Python 3",
   "language": "python",
   "name": "python3"
  },
  "language_info": {
   "codemirror_mode": {
    "name": "ipython",
    "version": 3
   },
   "file_extension": ".py",
   "mimetype": "text/x-python",
   "name": "python",
   "nbconvert_exporter": "python",
   "pygments_lexer": "ipython3",
   "version": "3.7.6"
  }
 },
 "nbformat": 4,
 "nbformat_minor": 4
}
