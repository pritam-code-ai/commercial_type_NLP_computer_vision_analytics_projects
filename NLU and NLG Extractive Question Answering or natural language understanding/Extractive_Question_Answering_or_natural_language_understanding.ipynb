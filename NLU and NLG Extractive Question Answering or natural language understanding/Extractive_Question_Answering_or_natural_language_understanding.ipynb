{
 "cells": [
  {
   "cell_type": "code",
   "execution_count": null,
   "metadata": {},
   "outputs": [],
   "source": []
  },
  {
   "cell_type": "markdown",
   "metadata": {},
   "source": [
    "# Extractive Question Answering or natural language understanding"
   ]
  },
  {
   "cell_type": "code",
   "execution_count": null,
   "metadata": {},
   "outputs": [],
   "source": []
  },
  {
   "cell_type": "code",
   "execution_count": 1,
   "metadata": {},
   "outputs": [],
   "source": [
    "from transformers import pipeline"
   ]
  },
  {
   "cell_type": "code",
   "execution_count": null,
   "metadata": {},
   "outputs": [],
   "source": []
  },
  {
   "cell_type": "code",
   "execution_count": 2,
   "metadata": {},
   "outputs": [
    {
     "data": {
      "application/vnd.jupyter.widget-view+json": {
       "model_id": "43187d60607b4c548ade020866b6530e",
       "version_major": 2,
       "version_minor": 0
      },
      "text/plain": [
       "HBox(children=(FloatProgress(value=0.0, description='Downloading', max=473.0, style=ProgressStyle(description_…"
      ]
     },
     "metadata": {},
     "output_type": "display_data"
    },
    {
     "name": "stdout",
     "output_type": "stream",
     "text": [
      "\n"
     ]
    },
    {
     "data": {
      "application/vnd.jupyter.widget-view+json": {
       "model_id": "8fcd933e413247f5b19f14a136711226",
       "version_major": 2,
       "version_minor": 0
      },
      "text/plain": [
       "HBox(children=(FloatProgress(value=0.0, description='Downloading', max=213450.0, style=ProgressStyle(descripti…"
      ]
     },
     "metadata": {},
     "output_type": "display_data"
    },
    {
     "name": "stdout",
     "output_type": "stream",
     "text": [
      "\n"
     ]
    },
    {
     "data": {
      "application/vnd.jupyter.widget-view+json": {
       "model_id": "a3977a871d4240809fd9a7392163d493",
       "version_major": 2,
       "version_minor": 0
      },
      "text/plain": [
       "HBox(children=(FloatProgress(value=0.0, description='Downloading', max=230.0, style=ProgressStyle(description_…"
      ]
     },
     "metadata": {},
     "output_type": "display_data"
    },
    {
     "name": "stdout",
     "output_type": "stream",
     "text": [
      "\n"
     ]
    },
    {
     "data": {
      "application/vnd.jupyter.widget-view+json": {
       "model_id": "13cab38e0d774a68a18cd0172d59e37a",
       "version_major": 2,
       "version_minor": 0
      },
      "text/plain": [
       "HBox(children=(FloatProgress(value=0.0, description='Downloading', max=260894952.0, style=ProgressStyle(descri…"
      ]
     },
     "metadata": {},
     "output_type": "display_data"
    },
    {
     "name": "stdout",
     "output_type": "stream",
     "text": [
      "\n"
     ]
    },
    {
     "name": "stderr",
     "output_type": "stream",
     "text": [
      "All model checkpoint weights were used when initializing TFDistilBertForQuestionAnswering.\n",
      "\n",
      "All the weights of TFDistilBertForQuestionAnswering were initialized from the model checkpoint at distilbert-base-cased-distilled-squad.\n",
      "If your task is similar to the task the model of the ckeckpoint was trained on, you can already use TFDistilBertForQuestionAnswering for predictions without further training.\n"
     ]
    }
   ],
   "source": [
    "nlp = pipeline(\"question-answering\")"
   ]
  },
  {
   "cell_type": "code",
   "execution_count": null,
   "metadata": {},
   "outputs": [],
   "source": []
  },
  {
   "cell_type": "code",
   "execution_count": 3,
   "metadata": {},
   "outputs": [],
   "source": [
    "\n",
    "context = r\"\"\"\n",
    "Extractive Question Answering is the task of extracting an answer from a text given a question. An example of a\n",
    "question answering dataset is the SQuAD dataset, which is entirely based on that task. If you would like to fine-tune\n",
    "a model on a SQuAD task, you may leverage the examples/question-answering/run_squad.py script.\n",
    "\"\"\""
   ]
  },
  {
   "cell_type": "code",
   "execution_count": null,
   "metadata": {},
   "outputs": [],
   "source": []
  },
  {
   "cell_type": "markdown",
   "metadata": {},
   "source": [
    "# first letter of first word or what, which, how or questioning word or may be other words too is required capital and remaining letter of first word is required be in lower case of the question input string or otherwise error may be printed .  so, by python code, I done automatic convert to upper case for first letter and remain letter as lower letter of first word input string . "
   ]
  },
  {
   "cell_type": "code",
   "execution_count": 4,
   "metadata": {},
   "outputs": [
    {
     "name": "stdout",
     "output_type": "stream",
     "text": [
      " processed string =  How to get answer by extractive question answering ? \n",
      " and \n",
      " type of data after process is =  <class 'str'>\n",
      "\n",
      " Answer: 'from a text given a question.', \n",
      " score: 0.0128, \n",
      " start: 67, \n",
      " end: 96\n",
      " . \n",
      "\n"
     ]
    }
   ],
   "source": [
    "input_question = \"how to get answer by extractive question answering ?\".lower()\n",
    "input_question1 = input_question[0].capitalize() + input_question[1:]\n",
    "\n",
    "print(\" processed string = \", input_question1, \"\\n and \\n type of data after process is = \", type(input_question))\n",
    "\n",
    "result = nlp(question=input_question1, context=context)\n",
    "print(\"\\n\", f\"Answer: '{result['answer']}', \\n score: {round(result['score'], 4)}, \\n start: {result['start']}, \\n end: {result['end']}\")\n",
    "print(\" . \\n\")\n"
   ]
  },
  {
   "cell_type": "code",
   "execution_count": null,
   "metadata": {},
   "outputs": [],
   "source": []
  },
  {
   "cell_type": "code",
   "execution_count": 5,
   "metadata": {},
   "outputs": [
    {
     "name": "stdout",
     "output_type": "stream",
     "text": [
      " processed string =  For squad task, which script will be required ? \n",
      " and \n",
      " type of data after process is =  <class 'str'>\n",
      "\n",
      " Answer: 'examples/question-answering/run_squad.py', \n",
      " score: 0.6383, \n",
      " start: 277, \n",
      " end: 317\n",
      " . \n",
      "\n"
     ]
    }
   ],
   "source": [
    "input_question = \"FOR SQuAD task, which script will be required ?\".lower()\n",
    "input_question1 = input_question[0].capitalize() + input_question[1:]\n",
    "\n",
    "print(\" processed string = \", input_question1, \"\\n and \\n type of data after process is = \", type(input_question))\n",
    "\n",
    "result = nlp(question=input_question1, context=context)\n",
    "print(\"\\n\", f\"Answer: '{result['answer']}', \\n score: {round(result['score'], 4)}, \\n start: {result['start']}, \\n end: {result['end']}\")\n",
    "print(\" . \\n\")\n"
   ]
  },
  {
   "cell_type": "code",
   "execution_count": null,
   "metadata": {},
   "outputs": [],
   "source": []
  },
  {
   "cell_type": "code",
   "execution_count": 6,
   "metadata": {},
   "outputs": [
    {
     "data": {
      "application/vnd.jupyter.widget-view+json": {
       "model_id": "ad21b1c35b0146eda9370c084646d417",
       "version_major": 2,
       "version_minor": 0
      },
      "text/plain": [
       "HBox(children=(FloatProgress(value=0.0, description='Downloading', max=443.0, style=ProgressStyle(description_…"
      ]
     },
     "metadata": {},
     "output_type": "display_data"
    },
    {
     "name": "stdout",
     "output_type": "stream",
     "text": [
      "\n"
     ]
    },
    {
     "data": {
      "application/vnd.jupyter.widget-view+json": {
       "model_id": "67190c8a56c34cfd907b1a04e1aee200",
       "version_major": 2,
       "version_minor": 0
      },
      "text/plain": [
       "HBox(children=(FloatProgress(value=0.0, description='Downloading', max=231508.0, style=ProgressStyle(descripti…"
      ]
     },
     "metadata": {},
     "output_type": "display_data"
    },
    {
     "name": "stdout",
     "output_type": "stream",
     "text": [
      "\n"
     ]
    },
    {
     "data": {
      "application/vnd.jupyter.widget-view+json": {
       "model_id": "e188e395411245258b3e6a99c0d0eb67",
       "version_major": 2,
       "version_minor": 0
      },
      "text/plain": [
       "HBox(children=(FloatProgress(value=0.0, description='Downloading', max=1341090760.0, style=ProgressStyle(descr…"
      ]
     },
     "metadata": {},
     "output_type": "display_data"
    },
    {
     "name": "stdout",
     "output_type": "stream",
     "text": [
      "\n"
     ]
    },
    {
     "name": "stderr",
     "output_type": "stream",
     "text": [
      "All model checkpoint weights were used when initializing TFBertForQuestionAnswering.\n",
      "\n",
      "All the weights of TFBertForQuestionAnswering were initialized from the model checkpoint at bert-large-uncased-whole-word-masking-finetuned-squad.\n",
      "If your task is similar to the task the model of the ckeckpoint was trained on, you can already use TFBertForQuestionAnswering for predictions without further training.\n"
     ]
    },
    {
     "name": "stdout",
     "output_type": "stream",
     "text": [
      "Question: How many pretrained models are available in 🤗 Transformers?\n",
      "Answer: over 32 +\n",
      "Question: What does 🤗 Transformers provide?\n",
      "Answer: general - purpose . . . architectures\n",
      "Question: 🤗 Transformers provides interoperability between which frameworks?\n",
      "Answer: tensorflow 2 . 0 and pytorch\n"
     ]
    }
   ],
   "source": [
    "from transformers import AutoTokenizer, TFAutoModelForQuestionAnswering\n",
    "import tensorflow as tf\n",
    "\n",
    "tokenizer = AutoTokenizer.from_pretrained(\"bert-large-uncased-whole-word-masking-finetuned-squad\")\n",
    "model = TFAutoModelForQuestionAnswering.from_pretrained(\"bert-large-uncased-whole-word-masking-finetuned-squad\")\n",
    "\n",
    "text = r\"\"\"\n",
    "... 🤗 Transformers (formerly known as pytorch-transformers and pytorch-pretrained-bert) provides general-purpose\n",
    "... architectures (BERT, GPT-2, RoBERTa, XLM, DistilBert, XLNet…) for Natural Language Understanding (NLU) and Natural\n",
    "... Language Generation (NLG) with over 32+ pretrained models in 100+ languages and deep interoperability between\n",
    "... TensorFlow 2.0 and PyTorch.\n",
    "... \"\"\"\n",
    "\n",
    "questions = [\n",
    "    \"How many pretrained models are available in 🤗 Transformers?\",\n",
    "    \"What does 🤗 Transformers provide?\",\n",
    "    \"🤗 Transformers provides interoperability between which frameworks?\",\n",
    "]\n",
    "\n",
    "for question in questions:\n",
    "    inputs = tokenizer(question, text, add_special_tokens=True, return_tensors=\"tf\")\n",
    "    input_ids = inputs[\"input_ids\"].numpy()[0]\n",
    "    text_tokens = tokenizer.convert_ids_to_tokens(input_ids)\n",
    "    answer_start_scores, answer_end_scores = model(inputs)\n",
    "    answer_start = tf.argmax(\n",
    "        answer_start_scores, axis=1\n",
    "    ).numpy()[0]  # Get the most likely beginning of answer with the argmax of the score\n",
    "    answer_end = (\n",
    "        tf.argmax(answer_end_scores, axis=1) + 1\n",
    "    ).numpy()[0]  # Get the most likely end of answer with the argmax of the score\n",
    "    answer = tokenizer.convert_tokens_to_string(tokenizer.convert_ids_to_tokens(input_ids[answer_start:answer_end]))\n",
    "\n",
    "    print(f\"Question: {question}\")\n",
    "    print(f\"Answer: {answer}\")\n"
   ]
  },
  {
   "cell_type": "code",
   "execution_count": null,
   "metadata": {},
   "outputs": [],
   "source": []
  },
  {
   "cell_type": "code",
   "execution_count": null,
   "metadata": {},
   "outputs": [],
   "source": []
  },
  {
   "cell_type": "code",
   "execution_count": null,
   "metadata": {},
   "outputs": [],
   "source": []
  },
  {
   "cell_type": "code",
   "execution_count": null,
   "metadata": {},
   "outputs": [],
   "source": []
  },
  {
   "cell_type": "code",
   "execution_count": null,
   "metadata": {},
   "outputs": [],
   "source": []
  },
  {
   "cell_type": "code",
   "execution_count": null,
   "metadata": {},
   "outputs": [],
   "source": []
  }
 ],
 "metadata": {
  "kernelspec": {
   "display_name": "Python 3",
   "language": "python",
   "name": "python3"
  },
  "language_info": {
   "codemirror_mode": {
    "name": "ipython",
    "version": 3
   },
   "file_extension": ".py",
   "mimetype": "text/x-python",
   "name": "python",
   "nbconvert_exporter": "python",
   "pygments_lexer": "ipython3",
   "version": "3.7.3"
  },
  "widgets": {
   "application/vnd.jupyter.widget-state+json": {
    "state": {
     "0048292519be4badb295739dbe4399bb": {
      "model_module": "@jupyter-widgets/controls",
      "model_module_version": "1.5.0",
      "model_name": "ProgressStyleModel",
      "state": {
       "description_width": "initial"
      }
     },
     "03e6c403fecb4d9087a4f1f17ab9a267": {
      "model_module": "@jupyter-widgets/controls",
      "model_module_version": "1.5.0",
      "model_name": "HTMLModel",
      "state": {
       "layout": "IPY_MODEL_fafca611d65d4be4be3112e7fc4d0c63",
       "style": "IPY_MODEL_39e4c6a6094442bcbca5af7dfd3b3062",
       "value": " 261M/261M [08:51&lt;00:00, 491kB/s]"
      }
     },
     "07f112f6452249f2bdbfeff38b8a1867": {
      "model_module": "@jupyter-widgets/controls",
      "model_module_version": "1.5.0",
      "model_name": "FloatProgressModel",
      "state": {
       "bar_style": "success",
       "description": "Downloading: 100%",
       "layout": "IPY_MODEL_868e5922d12a4c9cb78c45b79298f368",
       "max": 230,
       "style": "IPY_MODEL_d858dcfb372b406a9b7a86effef14d29",
       "value": 230
      }
     },
     "0f222b51e6e34db39d858dc7c104ea1e": {
      "model_module": "@jupyter-widgets/controls",
      "model_module_version": "1.5.0",
      "model_name": "FloatProgressModel",
      "state": {
       "bar_style": "success",
       "description": "Downloading: 100%",
       "layout": "IPY_MODEL_8eb9c812415b492cbedb6f465e6f9be6",
       "max": 213450,
       "style": "IPY_MODEL_8c75e66cbe724f90a90938bedffe2e3c",
       "value": 213450
      }
     },
     "0fd7957aa95c4b65a5a2c2ffcbddaacd": {
      "model_module": "@jupyter-widgets/base",
      "model_module_version": "1.2.0",
      "model_name": "LayoutModel",
      "state": {}
     },
     "13cab38e0d774a68a18cd0172d59e37a": {
      "model_module": "@jupyter-widgets/controls",
      "model_module_version": "1.5.0",
      "model_name": "HBoxModel",
      "state": {
       "children": [
        "IPY_MODEL_d4c49902a7f841edb537371d620b97fa",
        "IPY_MODEL_03e6c403fecb4d9087a4f1f17ab9a267"
       ],
       "layout": "IPY_MODEL_2282c38aa0b143388a1211074a0385b3"
      }
     },
     "15f800a1f8dc499398b005b05ee73f60": {
      "model_module": "@jupyter-widgets/base",
      "model_module_version": "1.2.0",
      "model_name": "LayoutModel",
      "state": {}
     },
     "17fa1a913f254245988c3987e0dad6dc": {
      "model_module": "@jupyter-widgets/base",
      "model_module_version": "1.2.0",
      "model_name": "LayoutModel",
      "state": {}
     },
     "2282c38aa0b143388a1211074a0385b3": {
      "model_module": "@jupyter-widgets/base",
      "model_module_version": "1.2.0",
      "model_name": "LayoutModel",
      "state": {}
     },
     "236524506bc642ab91f8e7e92387960d": {
      "model_module": "@jupyter-widgets/base",
      "model_module_version": "1.2.0",
      "model_name": "LayoutModel",
      "state": {}
     },
     "263133a0fd2d497093efc7ded6b793b3": {
      "model_module": "@jupyter-widgets/controls",
      "model_module_version": "1.5.0",
      "model_name": "DescriptionStyleModel",
      "state": {
       "description_width": ""
      }
     },
     "273385a3d3eb483290420754d8ae747e": {
      "model_module": "@jupyter-widgets/controls",
      "model_module_version": "1.5.0",
      "model_name": "HTMLModel",
      "state": {
       "layout": "IPY_MODEL_341ea395ee12419596d104fa49ba60c4",
       "style": "IPY_MODEL_faac3164fb31431d818bb6a9ae833c4e",
       "value": " 1.34G/1.34G [05:07&lt;00:00, 4.37MB/s]"
      }
     },
     "2adaf0fd801e4717b55a7998088fc9fb": {
      "model_module": "@jupyter-widgets/controls",
      "model_module_version": "1.5.0",
      "model_name": "FloatProgressModel",
      "state": {
       "bar_style": "success",
       "description": "Downloading: 100%",
       "layout": "IPY_MODEL_85a83d220a7a4175b4f46fc87d23cf41",
       "max": 1341090760,
       "style": "IPY_MODEL_5fa1abb7a13141fb9cd0bcc74bd203a3",
       "value": 1341090760
      }
     },
     "2ded2f36680a43719fce7010b01fcb86": {
      "model_module": "@jupyter-widgets/base",
      "model_module_version": "1.2.0",
      "model_name": "LayoutModel",
      "state": {}
     },
     "341ea395ee12419596d104fa49ba60c4": {
      "model_module": "@jupyter-widgets/base",
      "model_module_version": "1.2.0",
      "model_name": "LayoutModel",
      "state": {}
     },
     "39e4c6a6094442bcbca5af7dfd3b3062": {
      "model_module": "@jupyter-widgets/controls",
      "model_module_version": "1.5.0",
      "model_name": "DescriptionStyleModel",
      "state": {
       "description_width": ""
      }
     },
     "3ed77e4872d14dd7b7f082bd79b91251": {
      "model_module": "@jupyter-widgets/controls",
      "model_module_version": "1.5.0",
      "model_name": "FloatProgressModel",
      "state": {
       "bar_style": "success",
       "description": "Downloading: 100%",
       "layout": "IPY_MODEL_cd6e8543a2584e7ab052986a09b97e2b",
       "max": 443,
       "style": "IPY_MODEL_0048292519be4badb295739dbe4399bb",
       "value": 443
      }
     },
     "42522473c5964be4913b5cdbc017df93": {
      "model_module": "@jupyter-widgets/controls",
      "model_module_version": "1.5.0",
      "model_name": "ProgressStyleModel",
      "state": {
       "description_width": "initial"
      }
     },
     "43187d60607b4c548ade020866b6530e": {
      "model_module": "@jupyter-widgets/controls",
      "model_module_version": "1.5.0",
      "model_name": "HBoxModel",
      "state": {
       "children": [
        "IPY_MODEL_e9109952ce0d40a59f8539db30f00664",
        "IPY_MODEL_798ef88646854e4190498058614bcec2"
       ],
       "layout": "IPY_MODEL_2ded2f36680a43719fce7010b01fcb86"
      }
     },
     "4857d3bcf61e45b8a0187d7f725f533f": {
      "model_module": "@jupyter-widgets/controls",
      "model_module_version": "1.5.0",
      "model_name": "HTMLModel",
      "state": {
       "layout": "IPY_MODEL_a44baa4d5a9b4d08984f30f0fbe093d2",
       "style": "IPY_MODEL_263133a0fd2d497093efc7ded6b793b3",
       "value": " 232k/232k [00:02&lt;00:00, 82.7kB/s]"
      }
     },
     "4989a8990d044a6f8301b94ef9a067d5": {
      "model_module": "@jupyter-widgets/base",
      "model_module_version": "1.2.0",
      "model_name": "LayoutModel",
      "state": {}
     },
     "50fe0a6a6a2143f4895dfda52554f12c": {
      "model_module": "@jupyter-widgets/controls",
      "model_module_version": "1.5.0",
      "model_name": "HTMLModel",
      "state": {
       "layout": "IPY_MODEL_17fa1a913f254245988c3987e0dad6dc",
       "style": "IPY_MODEL_75165e0e0f0a467eb98a0bb4db057bbc",
       "value": " 213k/213k [00:04&lt;00:00, 43.9kB/s]"
      }
     },
     "57b28a52ca984465b4af9c1c60961682": {
      "model_module": "@jupyter-widgets/controls",
      "model_module_version": "1.5.0",
      "model_name": "ProgressStyleModel",
      "state": {
       "description_width": "initial"
      }
     },
     "5fa1abb7a13141fb9cd0bcc74bd203a3": {
      "model_module": "@jupyter-widgets/controls",
      "model_module_version": "1.5.0",
      "model_name": "ProgressStyleModel",
      "state": {
       "description_width": "initial"
      }
     },
     "62145215f7d9457fa710ea9b23051578": {
      "model_module": "@jupyter-widgets/controls",
      "model_module_version": "1.5.0",
      "model_name": "ProgressStyleModel",
      "state": {
       "description_width": "initial"
      }
     },
     "66836da02d904a8dba3fb13e71780d0d": {
      "model_module": "@jupyter-widgets/controls",
      "model_module_version": "1.5.0",
      "model_name": "DescriptionStyleModel",
      "state": {
       "description_width": ""
      }
     },
     "67190c8a56c34cfd907b1a04e1aee200": {
      "model_module": "@jupyter-widgets/controls",
      "model_module_version": "1.5.0",
      "model_name": "HBoxModel",
      "state": {
       "children": [
        "IPY_MODEL_bc8b3662b36e4ca7a8e45c5323ccc9d6",
        "IPY_MODEL_4857d3bcf61e45b8a0187d7f725f533f"
       ],
       "layout": "IPY_MODEL_9933baac984b4ca7a3dcbb62d47c10d6"
      }
     },
     "7302b7d041a3464f95c3ac54a06cdce7": {
      "model_module": "@jupyter-widgets/controls",
      "model_module_version": "1.5.0",
      "model_name": "DescriptionStyleModel",
      "state": {
       "description_width": ""
      }
     },
     "75165e0e0f0a467eb98a0bb4db057bbc": {
      "model_module": "@jupyter-widgets/controls",
      "model_module_version": "1.5.0",
      "model_name": "DescriptionStyleModel",
      "state": {
       "description_width": ""
      }
     },
     "798ef88646854e4190498058614bcec2": {
      "model_module": "@jupyter-widgets/controls",
      "model_module_version": "1.5.0",
      "model_name": "HTMLModel",
      "state": {
       "layout": "IPY_MODEL_a14f1c97cadc442dbe03e29802664fbc",
       "style": "IPY_MODEL_66836da02d904a8dba3fb13e71780d0d",
       "value": " 473/473 [00:07&lt;00:00, 63.2B/s]"
      }
     },
     "85a83d220a7a4175b4f46fc87d23cf41": {
      "model_module": "@jupyter-widgets/base",
      "model_module_version": "1.2.0",
      "model_name": "LayoutModel",
      "state": {}
     },
     "868e5922d12a4c9cb78c45b79298f368": {
      "model_module": "@jupyter-widgets/base",
      "model_module_version": "1.2.0",
      "model_name": "LayoutModel",
      "state": {}
     },
     "8c75e66cbe724f90a90938bedffe2e3c": {
      "model_module": "@jupyter-widgets/controls",
      "model_module_version": "1.5.0",
      "model_name": "ProgressStyleModel",
      "state": {
       "description_width": "initial"
      }
     },
     "8ca258266f3d4ade8dd9620b1d35c484": {
      "model_module": "@jupyter-widgets/base",
      "model_module_version": "1.2.0",
      "model_name": "LayoutModel",
      "state": {}
     },
     "8eb9c812415b492cbedb6f465e6f9be6": {
      "model_module": "@jupyter-widgets/base",
      "model_module_version": "1.2.0",
      "model_name": "LayoutModel",
      "state": {}
     },
     "8fcd933e413247f5b19f14a136711226": {
      "model_module": "@jupyter-widgets/controls",
      "model_module_version": "1.5.0",
      "model_name": "HBoxModel",
      "state": {
       "children": [
        "IPY_MODEL_0f222b51e6e34db39d858dc7c104ea1e",
        "IPY_MODEL_50fe0a6a6a2143f4895dfda52554f12c"
       ],
       "layout": "IPY_MODEL_15f800a1f8dc499398b005b05ee73f60"
      }
     },
     "9933baac984b4ca7a3dcbb62d47c10d6": {
      "model_module": "@jupyter-widgets/base",
      "model_module_version": "1.2.0",
      "model_name": "LayoutModel",
      "state": {}
     },
     "99aa8d3ad8ff45b18f731341dba4982c": {
      "model_module": "@jupyter-widgets/base",
      "model_module_version": "1.2.0",
      "model_name": "LayoutModel",
      "state": {}
     },
     "a14f1c97cadc442dbe03e29802664fbc": {
      "model_module": "@jupyter-widgets/base",
      "model_module_version": "1.2.0",
      "model_name": "LayoutModel",
      "state": {}
     },
     "a3977a871d4240809fd9a7392163d493": {
      "model_module": "@jupyter-widgets/controls",
      "model_module_version": "1.5.0",
      "model_name": "HBoxModel",
      "state": {
       "children": [
        "IPY_MODEL_07f112f6452249f2bdbfeff38b8a1867",
        "IPY_MODEL_afa0c27d6a164e7db475cf9071411b7c"
       ],
       "layout": "IPY_MODEL_99aa8d3ad8ff45b18f731341dba4982c"
      }
     },
     "a44baa4d5a9b4d08984f30f0fbe093d2": {
      "model_module": "@jupyter-widgets/base",
      "model_module_version": "1.2.0",
      "model_name": "LayoutModel",
      "state": {}
     },
     "ac14415c06f8447c8af0b325c25b05ca": {
      "model_module": "@jupyter-widgets/base",
      "model_module_version": "1.2.0",
      "model_name": "LayoutModel",
      "state": {}
     },
     "ad21b1c35b0146eda9370c084646d417": {
      "model_module": "@jupyter-widgets/controls",
      "model_module_version": "1.5.0",
      "model_name": "HBoxModel",
      "state": {
       "children": [
        "IPY_MODEL_3ed77e4872d14dd7b7f082bd79b91251",
        "IPY_MODEL_f03fc0bd1f294c968ffbe86df9b73850"
       ],
       "layout": "IPY_MODEL_4989a8990d044a6f8301b94ef9a067d5"
      }
     },
     "afa0c27d6a164e7db475cf9071411b7c": {
      "model_module": "@jupyter-widgets/controls",
      "model_module_version": "1.5.0",
      "model_name": "HTMLModel",
      "state": {
       "layout": "IPY_MODEL_ac14415c06f8447c8af0b325c25b05ca",
       "style": "IPY_MODEL_e1d2e1edc197404da4a0a9bcafec4d95",
       "value": " 230/230 [00:01&lt;00:00, 131B/s]"
      }
     },
     "bc8b3662b36e4ca7a8e45c5323ccc9d6": {
      "model_module": "@jupyter-widgets/controls",
      "model_module_version": "1.5.0",
      "model_name": "FloatProgressModel",
      "state": {
       "bar_style": "success",
       "description": "Downloading: 100%",
       "layout": "IPY_MODEL_0fd7957aa95c4b65a5a2c2ffcbddaacd",
       "max": 231508,
       "style": "IPY_MODEL_42522473c5964be4913b5cdbc017df93",
       "value": 231508
      }
     },
     "c535bb6c9c8e4caaaea49ab8c2564b29": {
      "model_module": "@jupyter-widgets/base",
      "model_module_version": "1.2.0",
      "model_name": "LayoutModel",
      "state": {}
     },
     "cd6e8543a2584e7ab052986a09b97e2b": {
      "model_module": "@jupyter-widgets/base",
      "model_module_version": "1.2.0",
      "model_name": "LayoutModel",
      "state": {}
     },
     "d4c49902a7f841edb537371d620b97fa": {
      "model_module": "@jupyter-widgets/controls",
      "model_module_version": "1.5.0",
      "model_name": "FloatProgressModel",
      "state": {
       "bar_style": "success",
       "description": "Downloading: 100%",
       "layout": "IPY_MODEL_8ca258266f3d4ade8dd9620b1d35c484",
       "max": 260894952,
       "style": "IPY_MODEL_57b28a52ca984465b4af9c1c60961682",
       "value": 260894952
      }
     },
     "d858dcfb372b406a9b7a86effef14d29": {
      "model_module": "@jupyter-widgets/controls",
      "model_module_version": "1.5.0",
      "model_name": "ProgressStyleModel",
      "state": {
       "description_width": "initial"
      }
     },
     "e188e395411245258b3e6a99c0d0eb67": {
      "model_module": "@jupyter-widgets/controls",
      "model_module_version": "1.5.0",
      "model_name": "HBoxModel",
      "state": {
       "children": [
        "IPY_MODEL_2adaf0fd801e4717b55a7998088fc9fb",
        "IPY_MODEL_273385a3d3eb483290420754d8ae747e"
       ],
       "layout": "IPY_MODEL_c535bb6c9c8e4caaaea49ab8c2564b29"
      }
     },
     "e1d2e1edc197404da4a0a9bcafec4d95": {
      "model_module": "@jupyter-widgets/controls",
      "model_module_version": "1.5.0",
      "model_name": "DescriptionStyleModel",
      "state": {
       "description_width": ""
      }
     },
     "e9109952ce0d40a59f8539db30f00664": {
      "model_module": "@jupyter-widgets/controls",
      "model_module_version": "1.5.0",
      "model_name": "FloatProgressModel",
      "state": {
       "bar_style": "success",
       "description": "Downloading: 100%",
       "layout": "IPY_MODEL_e937afd52176477d86fe1dfb736943a0",
       "max": 473,
       "style": "IPY_MODEL_62145215f7d9457fa710ea9b23051578",
       "value": 473
      }
     },
     "e937afd52176477d86fe1dfb736943a0": {
      "model_module": "@jupyter-widgets/base",
      "model_module_version": "1.2.0",
      "model_name": "LayoutModel",
      "state": {}
     },
     "f03fc0bd1f294c968ffbe86df9b73850": {
      "model_module": "@jupyter-widgets/controls",
      "model_module_version": "1.5.0",
      "model_name": "HTMLModel",
      "state": {
       "layout": "IPY_MODEL_236524506bc642ab91f8e7e92387960d",
       "style": "IPY_MODEL_7302b7d041a3464f95c3ac54a06cdce7",
       "value": " 443/443 [07:19&lt;00:00, 1.01B/s]"
      }
     },
     "faac3164fb31431d818bb6a9ae833c4e": {
      "model_module": "@jupyter-widgets/controls",
      "model_module_version": "1.5.0",
      "model_name": "DescriptionStyleModel",
      "state": {
       "description_width": ""
      }
     },
     "fafca611d65d4be4be3112e7fc4d0c63": {
      "model_module": "@jupyter-widgets/base",
      "model_module_version": "1.2.0",
      "model_name": "LayoutModel",
      "state": {}
     }
    },
    "version_major": 2,
    "version_minor": 0
   }
  }
 },
 "nbformat": 4,
 "nbformat_minor": 4
}
